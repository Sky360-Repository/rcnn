{
 "cells": [
  {
   "cell_type": "code",
   "execution_count": null,
   "metadata": {},
   "outputs": [],
   "source": [
    "import os\n",
    "import torch\n",
    "import torchvision\n",
    "import simple_train\n",
    "from simple_train import PesmodOpticalFlowDataset, get_transform\n",
    "import utils\n"
   ]
  },
  {
   "cell_type": "code",
   "execution_count": null,
   "metadata": {},
   "outputs": [],
   "source": [
    "batch_size=1\n",
    "dataset = PesmodOpticalFlowDataset(\n",
    "    os.path.join('INPUT', 'test'), get_transform(train=True))\n",
    "data_loader = torch.utils.data.DataLoader(\n",
    "    dataset, batch_size=batch_size, shuffle=True, num_workers=4,\n",
    "    collate_fn=utils.collate_fn)\n"
   ]
  },
  {
   "cell_type": "code",
   "execution_count": null,
   "metadata": {},
   "outputs": [],
   "source": [
    "dataiter = iter(data_loader)\n",
    "images, labels = dataiter.next()\n"
   ]
  },
  {
   "cell_type": "code",
   "execution_count": null,
   "metadata": {},
   "outputs": [],
   "source": [
    "import imgaug\n",
    "%matplotlib inline\n",
    "from matplotlib import pyplot as plt\n",
    "import numpy as np\n",
    "\n",
    "for image, target in zip(images,labels):\n",
    "    \n",
    "    optical = image[:3]\n",
    "    of= image[3:]\n",
    "    print(optical.shape)\n",
    "    print(type(optical))\n",
    "    optical = torch.Tensor.moveaxis(optical, 0, -1)\n",
    "    of = torch.Tensor.moveaxis(of, 0, -1)\n",
    "    print(optical.shape)\n",
    "    bbs = imgaug.BoundingBoxesOnImage.from_xyxy_array(\n",
    "        target['boxes'], optical.shape)\n",
    "    optical = bbs.draw_on_image(optical, size=2, color=[255, 0, 0])\n",
    "    of = bbs.draw_on_image(of, size=2, color=[255, 0, 0])\n",
    "    fig = plt.figure(figsize=(15, 15))\n",
    "    fig.add_subplot(2, 1, 1) #rows, cols\n",
    "    plt.imshow(optical, interpolation='nearest')\n",
    "    fig.add_subplot(2, 1, 2)\n",
    "    plt.imshow(of, interpolation='nearest')\n",
    "\n",
    "\n",
    "    #optical = Image.fromarray(np.uint8(cm.gist_earth(optical_tensor)*255))\n",
    "    #optical.show()\n",
    "    #of=image[3:]\n",
    "    break\n"
   ]
  }
 ],
 "metadata": {
  "interpreter": {
   "hash": "a37b5391d7908095f53ce958717fe7aca652dea842e91c055726ea7113ba9262"
  },
  "kernelspec": {
   "display_name": "Python 3.9.7 64-bit ('rcnn': conda)",
   "language": "python",
   "name": "python3"
  },
  "language_info": {
   "codemirror_mode": {
    "name": "ipython",
    "version": 3
   },
   "file_extension": ".py",
   "mimetype": "text/x-python",
   "name": "python",
   "nbconvert_exporter": "python",
   "pygments_lexer": "ipython3",
   "version": "3.9.7"
  },
  "orig_nbformat": 4
 },
 "nbformat": 4,
 "nbformat_minor": 2
}
